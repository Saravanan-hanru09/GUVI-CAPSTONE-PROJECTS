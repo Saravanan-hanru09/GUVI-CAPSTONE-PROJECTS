{
 "cells": [
  {
   "cell_type": "code",
   "execution_count": null,
   "metadata": {},
   "outputs": [],
   "source": [
    "import mysql.connector as sql\n",
    "import easyocr\n",
    "import re\n",
    "import os\n",
    "import pandas as pd"
   ]
  },
  {
   "cell_type": "code",
   "execution_count": null,
   "metadata": {},
   "outputs": [],
   "source": [
    "mydb = sql.connect(host=\"localhost\",\n",
    "                   user=\"root\",\n",
    "                   password=\"#Saravanan27\",\n",
    "                   database= \"bizcard_db\" #If not create one \n",
    "                  )\n",
    "mycursor = mydb.cursor(buffered=True)"
   ]
  },
  {
   "cell_type": "code",
   "execution_count": null,
   "metadata": {},
   "outputs": [],
   "source": [
    "mycursor.execute(\"CREATE DATABASE bizcard_db\")"
   ]
  },
  {
   "cell_type": "code",
   "execution_count": null,
   "metadata": {},
   "outputs": [],
   "source": [
    "# TABLE CREATION\n",
    "mycursor.execute('''CREATE TABLE IF NOT EXISTS business_card_data\n",
    "                   (id INTEGER PRIMARY KEY AUTO_INCREMENT,\n",
    "                    card_holder VARCHAR(255),\n",
    "                    designation VARCHAR(255),\n",
    "                    company_name VARCHAR(255),\n",
    "                    email TEXT,\n",
    "                    website TEXT,\n",
    "                    mobile_number VARCHAR(50),\n",
    "                    area TEXT,\n",
    "                    city TEXT,\n",
    "                    state TEXT,\n",
    "                    pin_code VARCHAR(10)\n",
    "                    )''')\n",
    "\n",
    "mydb.commit()"
   ]
  },
  {
   "cell_type": "code",
   "execution_count": null,
   "metadata": {},
   "outputs": [],
   "source": [
    "mycursor.execute(\"show tables\")\n",
    "mycursor.fetchall()"
   ]
  },
  {
   "cell_type": "code",
   "execution_count": null,
   "metadata": {},
   "outputs": [],
   "source": [
    "mycursor.execute(\"select * from business_card_data\")\n",
    "mycursor.fetchall()"
   ]
  },
  {
   "cell_type": "code",
   "execution_count": null,
   "metadata": {},
   "outputs": [],
   "source": [
    "reader = easyocr.Reader([\"en\"])\n",
    "\n",
    "results = reader.readtext('Cards/Card.png')\n",
    "#for (bbox,text,prob) in result: # To check what's inside \n",
    "    #print(text)   "
   ]
  },
  {
   "cell_type": "code",
   "execution_count": null,
   "metadata": {},
   "outputs": [],
   "source": [
    "text_contents = [result[1] for result in results]\n",
    "text_contents"
   ]
  },
  {
   "cell_type": "code",
   "execution_count": null,
   "metadata": {},
   "outputs": [],
   "source": [
    "saved_img = os.getcwd()+ \"\\\\\" + \"Cards\"+ \"\\\\\"+ \"Card1.png\"\n",
    "result = reader.readtext(saved_img,detail = 0,paragraph=False)"
   ]
  },
  {
   "cell_type": "code",
   "execution_count": null,
   "metadata": {},
   "outputs": [],
   "source": [
    "result"
   ]
  },
  {
   "cell_type": "code",
   "execution_count": null,
   "metadata": {},
   "outputs": [],
   "source": [
    "data = {\"card_holder\" : [],\n",
    "        \"designation\" : [],\n",
    "        \"company_name\" : [],\n",
    "        \"email\" : [],\n",
    "        \"mobile_number\" :[], \n",
    "        \"website\" : [],\n",
    "        \"area\" : [],\n",
    "        \"city\" : [],\n",
    "        \"state\" : [],\n",
    "        \"pin_code\" : [],\n",
    "        }\n",
    "\n",
    "def get_data(result):\n",
    "    for ind,i in enumerate(result):\n",
    "        \n",
    "        # To get WEBSITE_URL\n",
    "        if \"www \" in i.lower() or \"www.\" in i.lower():\n",
    "                data[\"website\"].append(i)\n",
    "        elif \"WWW\" in i:\n",
    "                data[\"website\"] = result[4] +\".\" + result[5]\n",
    "\n",
    "        # To get EMAIL ID\n",
    "        elif \"@\" in i:\n",
    "                data[\"email\"].append(i)\n",
    "\n",
    "        # To get MOBILE NUMBER\n",
    "        elif \"-\" in i:\n",
    "                data[\"mobile_number\"].append(i)\n",
    "                if len(data[\"mobile_number\"]) ==2:\n",
    "                        data[\"mobile_number\"] = \" & \".join(data[\"mobile_number\"])\n",
    "                      \n",
    "        elif ind == len(result) -1:\n",
    "                data[\"company_name\"].append(i)       \n",
    "\n",
    "        # To get CARD HOLDER NAME\n",
    "        elif ind == 0:\n",
    "            data[\"card_holder\"].append(i)\n",
    "\n",
    "        # To get DESIGNATION\n",
    "        elif ind == 1:\n",
    "                data[\"designation\"].append(i)\n",
    "\n",
    "        # To get AREA\n",
    "        if re.findall('^[0-9].+, [a-zA-Z]+',i):\n",
    "                data[\"area\"].append(i.split(',')[0])\n",
    "        elif re.findall('[0-9] [a-zA-Z]+',i):\n",
    "                data[\"area\"].append(i)\n",
    "\n",
    "        # To get CITY NAME\n",
    "        match1 = re.findall('.+St , ([a-zA-Z]+).+', i)\n",
    "        match2 = re.findall('.+St,, ([a-zA-Z]+).+', i)\n",
    "        match3 = re.findall('^[E].*',i)\n",
    "        if match1:\n",
    "                data[\"city\"].append(match1[0])\n",
    "        elif match2:\n",
    "                data[\"city\"].append(match2[0])\n",
    "        elif match3:\n",
    "                data[\"city\"].append(match3[0])\n",
    "\n",
    "        # To get STATE\n",
    "        state_match = re.findall('[a-zA-Z]{9} +[0-9]',i)\n",
    "        if state_match:\n",
    "                data[\"state\"].append(i[:9])\n",
    "        elif re.findall('^[0-9].+, ([a-zA-Z]+);',i):\n",
    "                data[\"state\"].append(i.split()[-1])\n",
    "        if len(data[\"state\"])== 2:\n",
    "                data[\"state\"].pop(0)        \n",
    "\n",
    "        # To get PINCODE        \n",
    "        if len(i)>=6 and i.isdigit():\n",
    "                data[\"pin_code\"].append(i)\n",
    "        elif re.findall('[a-zA-Z]{9} +[0-9]',i):\n",
    "                data[\"pin_code\"].append(i[10:])\n",
    "\n",
    "#Extract Company\n",
    "#company = result[-1:]\n",
    "#companies = '\\n'.join(company)\n",
    "#company_name= companies.replace('\\n', ' ')\n",
    "#company_name = data['company_name'].append(company_name)          \n",
    "#get_data(result)\n",
    "\n",
    "get_data(result)\n",
    "\n",
    "def create_df(data):\n",
    "            df = pd.DataFrame(data)\n",
    "            return df\n",
    "df = create_df(data)\n",
    "\n",
    "#st.success(\"### Data Extracted!\")\n",
    "#st.write(df)\n",
    "\n",
    "for i,row in df.iterrows():\n",
    "#here %S means string values \n",
    "        sql = \"\"\"INSERT INTO business_card_data(card_holder,designation,company_name,email,mobile_number,website,area,city,state,pin_code)\n",
    "                        VALUES (%s,%s,%s,%s,%s,%s,%s,%s,%s,%s)\"\"\"\n",
    "        mycursor.execute(sql, tuple(row))\n",
    "        # the connection is not auto committed by default, so we must commit to save our changes\n",
    "        mydb.commit()\n",
    "        #st.success(\"#### Uploaded to database successfully!\")"
   ]
  },
  {
   "cell_type": "code",
   "execution_count": null,
   "metadata": {},
   "outputs": [],
   "source": [
    "df"
   ]
  }
 ],
 "metadata": {
  "kernelspec": {
   "display_name": ".venv",
   "language": "python",
   "name": "python3"
  },
  "language_info": {
   "codemirror_mode": {
    "name": "ipython",
    "version": 3
   },
   "file_extension": ".py",
   "mimetype": "text/x-python",
   "name": "python",
   "nbconvert_exporter": "python",
   "pygments_lexer": "ipython3",
   "version": "3.12.1"
  }
 },
 "nbformat": 4,
 "nbformat_minor": 2
}
